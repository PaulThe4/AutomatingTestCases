{
 "cells": [
  {
   "cell_type": "code",
   "execution_count": 133,
   "metadata": {},
   "outputs": [],
   "source": [
    "import numpy as np \n",
    "import pandas as pd "
   ]
  },
  {
   "cell_type": "code",
   "execution_count": 137,
   "metadata": {},
   "outputs": [],
   "source": [
    "data = pd.read_csv('Dataset(CSV_Modified).csv')"
   ]
  },
  {
   "cell_type": "code",
   "execution_count": 141,
   "metadata": {},
   "outputs": [
    {
     "data": {
      "text/html": [
       "<div>\n",
       "<style scoped>\n",
       "    .dataframe tbody tr th:only-of-type {\n",
       "        vertical-align: middle;\n",
       "    }\n",
       "\n",
       "    .dataframe tbody tr th {\n",
       "        vertical-align: top;\n",
       "    }\n",
       "\n",
       "    .dataframe thead th {\n",
       "        text-align: right;\n",
       "    }\n",
       "</style>\n",
       "<table border=\"1\" class=\"dataframe\">\n",
       "  <thead>\n",
       "    <tr style=\"text-align: right;\">\n",
       "      <th></th>\n",
       "      <th>Id</th>\n",
       "      <th>Name</th>\n",
       "      <th>Priority</th>\n",
       "      <th>Test Case Type</th>\n",
       "      <th>Testing Types</th>\n",
       "      <th>Components</th>\n",
       "      <th>Status</th>\n",
       "    </tr>\n",
       "  </thead>\n",
       "  <tbody>\n",
       "    <tr>\n",
       "      <th>56</th>\n",
       "      <td>TC-46378</td>\n",
       "      <td>Verify Display/Update Shared Projects via data...</td>\n",
       "      <td>P2 (Medium - When time permits)</td>\n",
       "      <td>Functional - UI</td>\n",
       "      <td>Integration Testing, Regression Testing</td>\n",
       "      <td>Selective Test Case Sharing</td>\n",
       "      <td>1.0</td>\n",
       "    </tr>\n",
       "    <tr>\n",
       "      <th>57</th>\n",
       "      <td>TC-46381</td>\n",
       "      <td>Verify Requirement Field in Test Run Data Quer...</td>\n",
       "      <td>P1 (High - Must run in any case)</td>\n",
       "      <td>Functional - UI</td>\n",
       "      <td>Integration Testing, Regression Testing</td>\n",
       "      <td>Selective Test Case Sharing</td>\n",
       "      <td>1.0</td>\n",
       "    </tr>\n",
       "    <tr>\n",
       "      <th>58</th>\n",
       "      <td>TC-46382</td>\n",
       "      <td>Verify Batch Edit in Shared Projects via data ...</td>\n",
       "      <td>P2 (Medium - When time permits)</td>\n",
       "      <td>Functional - UI</td>\n",
       "      <td>Integration Testing</td>\n",
       "      <td>Selective Test Case Sharing</td>\n",
       "      <td>1.0</td>\n",
       "    </tr>\n",
       "    <tr>\n",
       "      <th>59</th>\n",
       "      <td>TC-46383</td>\n",
       "      <td>Verify Export excel file allows users to selec...</td>\n",
       "      <td>P2 (Medium - When time permits)</td>\n",
       "      <td>Functional - UI</td>\n",
       "      <td>Integration Testing</td>\n",
       "      <td>Selective Test Case Sharing</td>\n",
       "      <td>1.0</td>\n",
       "    </tr>\n",
       "    <tr>\n",
       "      <th>60</th>\n",
       "      <td>TC-46384</td>\n",
       "      <td>Verify Display Shared Projects via data query-...</td>\n",
       "      <td>P2 (Medium - When time permits)</td>\n",
       "      <td>Functional - UI</td>\n",
       "      <td>Integration Testing</td>\n",
       "      <td>Selective Test Case Sharing</td>\n",
       "      <td>1.0</td>\n",
       "    </tr>\n",
       "  </tbody>\n",
       "</table>\n",
       "</div>"
      ],
      "text/plain": [
       "          Id                                               Name  \\\n",
       "56  TC-46378  Verify Display/Update Shared Projects via data...   \n",
       "57  TC-46381  Verify Requirement Field in Test Run Data Quer...   \n",
       "58  TC-46382  Verify Batch Edit in Shared Projects via data ...   \n",
       "59  TC-46383  Verify Export excel file allows users to selec...   \n",
       "60  TC-46384  Verify Display Shared Projects via data query-...   \n",
       "\n",
       "                            Priority   Test Case Type  \\\n",
       "56   P2 (Medium - When time permits)  Functional - UI   \n",
       "57  P1 (High - Must run in any case)  Functional - UI   \n",
       "58   P2 (Medium - When time permits)  Functional - UI   \n",
       "59   P2 (Medium - When time permits)  Functional - UI   \n",
       "60   P2 (Medium - When time permits)  Functional - UI   \n",
       "\n",
       "                              Testing Types                   Components  \\\n",
       "56  Integration Testing, Regression Testing  Selective Test Case Sharing   \n",
       "57  Integration Testing, Regression Testing  Selective Test Case Sharing   \n",
       "58                      Integration Testing  Selective Test Case Sharing   \n",
       "59                      Integration Testing  Selective Test Case Sharing   \n",
       "60                      Integration Testing  Selective Test Case Sharing   \n",
       "\n",
       "    Status  \n",
       "56     1.0  \n",
       "57     1.0  \n",
       "58     1.0  \n",
       "59     1.0  \n",
       "60     1.0  "
      ]
     },
     "execution_count": 141,
     "metadata": {},
     "output_type": "execute_result"
    }
   ],
   "source": [
    "data = data.dropna()\n",
    "data.tail()"
   ]
  },
  {
   "cell_type": "code",
   "execution_count": 142,
   "metadata": {},
   "outputs": [
    {
     "data": {
      "text/plain": [
       "pandas.core.series.Series"
      ]
     },
     "execution_count": 142,
     "metadata": {},
     "output_type": "execute_result"
    }
   ],
   "source": [
    "type(data[\"Name\"])"
   ]
  },
  {
   "cell_type": "code",
   "execution_count": 143,
   "metadata": {},
   "outputs": [
    {
     "name": "stderr",
     "output_type": "stream",
     "text": [
      "[nltk_data] Downloading package punkt to /root/nltk_data...\n",
      "[nltk_data]   Package punkt is already up-to-date!\n",
      "[nltk_data] Downloading package stopwords to /root/nltk_data...\n",
      "[nltk_data]   Package stopwords is already up-to-date!\n"
     ]
    }
   ],
   "source": [
    "import re\n",
    "import nltk\n",
    "nltk.download('punkt')\n",
    "nltk.download('stopwords')\n",
    "#nltk.download('corpus')\n",
    "import string\n",
    "from nltk.tokenize import word_tokenize\n",
    "from nltk.corpus import stopwords\n",
    "from nltk.stem.porter import PorterStemmer"
   ]
  },
  {
   "cell_type": "code",
   "execution_count": 144,
   "metadata": {},
   "outputs": [
    {
     "data": {
      "text/plain": [
       "list"
      ]
     },
     "execution_count": 144,
     "metadata": {},
     "output_type": "execute_result"
    }
   ],
   "source": [
    "def clean_text(df):\n",
    "    descriptions = list()\n",
    "    lines = df[\"Name\"].values.tolist()\n",
    "    for text in lines:\n",
    "        text = text.lower()\n",
    "        pattern = re.compile('http[s]?://(?:[a-zA-Z]|[0-9]|[$-_@.&+]|[!*\\(\\),]|(?:%[0-9a-fA-F][0-9a-fA-F]))+')\n",
    "        text = pattern.sub('', text)\n",
    "        text = re.sub(r\"[,.\\\"!@#$%^&*(){}?/;`~:<>+=-]\", \"\", text)\n",
    "        tokens = word_tokenize(text)\n",
    "        table = str.maketrans('', '', string.punctuation)\n",
    "        stripped = [w.translate(table) for w in tokens]\n",
    "        words = [word for word in stripped if word.isalpha()]\n",
    "        custom_stopwords_list = ['verify', 'user', 'able', 'project', 'test', 'case', 'A', 'MR']\n",
    "        stop_words = set(stopwords.words(\"english\") + custom_stopwords_list)\n",
    "        stop_words.discard(\"not\")\n",
    "        PS = PorterStemmer()\n",
    "        words = [PS.stem(w) for w in words if not w in stop_words]\n",
    "        words = ' '.join(words)\n",
    "        descriptions.append(words)\n",
    "    return descriptions\n",
    "\n",
    "descriptions = clean_text(data)\n",
    "type(descriptions)\n",
    "#descriptions"
   ]
  },
  {
   "cell_type": "code",
   "execution_count": 145,
   "metadata": {},
   "outputs": [],
   "source": [
    "stopWords = set(stopwords.words('english')) | set(['verify', 'user'])\n"
   ]
  },
  {
   "cell_type": "code",
   "execution_count": 146,
   "metadata": {},
   "outputs": [
    {
     "name": "stdout",
     "output_type": "stream",
     "text": [
      "(59, 70)\n",
      "(59,)\n"
     ]
    }
   ],
   "source": [
    "from sklearn.feature_extraction.text import CountVectorizer\n",
    "CV = CountVectorizer(min_df = 2)   \n",
    "X = CV.fit_transform(descriptions).toarray()\n",
    "df = pd.concat([data])\n",
    "y = df[\"Status\"].to_numpy()\n",
    "print(np.shape(X))\n",
    "print(np.shape(y))"
   ]
  },
  {
   "cell_type": "code",
   "execution_count": 147,
   "metadata": {},
   "outputs": [
    {
     "name": "stdout",
     "output_type": "stream",
     "text": [
      "0.5833333333333334\n",
      "0.5833333333333334\n",
      "0.5833333333333334\n",
      "[[3 1]\n",
      " [4 4]]\n"
     ]
    }
   ],
   "source": [
    "from sklearn.model_selection import train_test_split\n",
    "X_train, X_test, y_train, y_test = train_test_split(X, y, test_size = 0.2, random_state = 0)\n",
    "\n",
    "# from sklearn.tree import DecisionTreeClassifier\n",
    "# model = DecisionTreeClassifier(criterion=\"entropy\", random_state=41)\n",
    "from sklearn.naive_bayes import GaussianNB\n",
    "model = GaussianNB()\n",
    "model.fit(X_train,y_train)\n",
    "\n",
    "y_pred_NB = model.predict(X_test)\n",
    "\n",
    "from sklearn.metrics import accuracy_score, f1_score, precision_score, confusion_matrix\n",
    "print(accuracy_score(y_test, y_pred_NB))\n",
    "print(f1_score(y_test, y_pred_NB, average = 'micro'))\n",
    "print(precision_score(y_test, y_pred_NB, average = 'micro'))\n",
    "print(confusion_matrix(y_test, y_pred_NB))"
   ]
  },
  {
   "cell_type": "code",
   "execution_count": 166,
   "metadata": {},
   "outputs": [
    {
     "data": {
      "text/plain": [
       "array([-1.,  1., -1.,  1., -1.,  1.,  1., -1., -1.,  1., -1., -1.])"
      ]
     },
     "execution_count": 166,
     "metadata": {},
     "output_type": "execute_result"
    }
   ],
   "source": [
    "#y_pred = model.predict(X_test)\n",
    "y_pred_NB"
   ]
  },
  {
   "cell_type": "code",
   "execution_count": 167,
   "metadata": {},
   "outputs": [
    {
     "data": {
      "text/plain": [
       "array([ 1.,  1.,  1.,  1., -1., -1.,  1.,  1.,  1.,  1., -1., -1.])"
      ]
     },
     "execution_count": 167,
     "metadata": {},
     "output_type": "execute_result"
    }
   ],
   "source": [
    "y_test"
   ]
  },
  {
   "cell_type": "code",
   "execution_count": 161,
   "metadata": {},
   "outputs": [
    {
     "name": "stdout",
     "output_type": "stream",
     "text": [
      "0.6666666666666666\n",
      "0.6666666666666666\n",
      "0.6666666666666666\n",
      "[[1 3]\n",
      " [1 7]]\n"
     ]
    }
   ],
   "source": [
    "from sklearn import svm\n",
    "SVM = svm.SVC(C = 1.0, kernel = 'linear', degree = 2, gamma = 'auto')\n",
    "SVM.fit(X_train,y_train)\n",
    "\n",
    "y_pred_SVM = SVM.predict(X_test)\n",
    "\n",
    "print(accuracy_score(y_test, y_pred_SVM))\n",
    "print(f1_score(y_test, y_pred_SVM, average = 'micro'))\n",
    "print(precision_score(y_test, y_pred_SVM, average = 'micro'))\n",
    "print(confusion_matrix(y_test, y_pred_SVM))"
   ]
  },
  {
   "cell_type": "code",
   "execution_count": 150,
   "metadata": {},
   "outputs": [
    {
     "data": {
      "text/plain": [
       "array([ 1.,  1., -1.,  1., -1.,  1.,  1.,  1.,  1.,  1.,  1.,  1.])"
      ]
     },
     "execution_count": 150,
     "metadata": {},
     "output_type": "execute_result"
    }
   ],
   "source": [
    "y_pred_SVM"
   ]
  },
  {
   "cell_type": "code",
   "execution_count": 164,
   "metadata": {},
   "outputs": [
    {
     "data": {
      "text/plain": [
       "array([ 1.,  1.,  1.,  1., -1., -1.,  1.,  1.,  1.,  1., -1., -1.])"
      ]
     },
     "execution_count": 164,
     "metadata": {},
     "output_type": "execute_result"
    }
   ],
   "source": [
    "y_test"
   ]
  },
  {
   "cell_type": "code",
   "execution_count": 156,
   "metadata": {},
   "outputs": [],
   "source": [
    "valdata = pd.read_csv('ValidationDataset.csv')"
   ]
  },
  {
   "cell_type": "code",
   "execution_count": 157,
   "metadata": {},
   "outputs": [
    {
     "data": {
      "text/html": [
       "<div>\n",
       "<style scoped>\n",
       "    .dataframe tbody tr th:only-of-type {\n",
       "        vertical-align: middle;\n",
       "    }\n",
       "\n",
       "    .dataframe tbody tr th {\n",
       "        vertical-align: top;\n",
       "    }\n",
       "\n",
       "    .dataframe thead th {\n",
       "        text-align: right;\n",
       "    }\n",
       "</style>\n",
       "<table border=\"1\" class=\"dataframe\">\n",
       "  <thead>\n",
       "    <tr style=\"text-align: right;\">\n",
       "      <th></th>\n",
       "      <th>Id</th>\n",
       "      <th>Name</th>\n",
       "      <th>Priority</th>\n",
       "      <th>Test Case Type</th>\n",
       "      <th>Testing Types</th>\n",
       "      <th>Components</th>\n",
       "      <th>Status</th>\n",
       "    </tr>\n",
       "  </thead>\n",
       "  <tbody>\n",
       "    <tr>\n",
       "      <th>20</th>\n",
       "      <td>TC-46212</td>\n",
       "      <td>MR-17233 Add Test Run dialog - Test Design tab...</td>\n",
       "      <td>P1 (High - Must run in any case)</td>\n",
       "      <td>Functional - UI</td>\n",
       "      <td>Acceptance Testing</td>\n",
       "      <td>Project Settings - Test Case Settings</td>\n",
       "      <td>1</td>\n",
       "    </tr>\n",
       "    <tr>\n",
       "      <th>26</th>\n",
       "      <td>TC-46262</td>\n",
       "      <td>MR-17470 API - Verify that system not allow to...</td>\n",
       "      <td>P1 (High - Must run in any case)</td>\n",
       "      <td>Functional - API</td>\n",
       "      <td>Acceptance Testing</td>\n",
       "      <td>Project Settings - Test Case Settings</td>\n",
       "      <td>-1</td>\n",
       "    </tr>\n",
       "    <tr>\n",
       "      <th>27</th>\n",
       "      <td>TC-46263</td>\n",
       "      <td>MR-17470 API - Verify that system allow to cre...</td>\n",
       "      <td>P1 (High - Must run in any case)</td>\n",
       "      <td>Functional - API</td>\n",
       "      <td>Acceptance Testing</td>\n",
       "      <td>Project Settings - Test Case Settings</td>\n",
       "      <td>1</td>\n",
       "    </tr>\n",
       "    <tr>\n",
       "      <th>28</th>\n",
       "      <td>TC-46264</td>\n",
       "      <td>MR-17470 API - Verify that system not allow to...</td>\n",
       "      <td>P2 (Medium - When time permits)</td>\n",
       "      <td>Functional - API</td>\n",
       "      <td>Regression Testing</td>\n",
       "      <td>Project Settings - Test Case Settings</td>\n",
       "      <td>1</td>\n",
       "    </tr>\n",
       "    <tr>\n",
       "      <th>29</th>\n",
       "      <td>TC-46273</td>\n",
       "      <td>Verify the Popup when user attempts to delete ...</td>\n",
       "      <td>P2 (Medium - When time permits)</td>\n",
       "      <td>Functional - UI</td>\n",
       "      <td>Integration Testing</td>\n",
       "      <td>Test Execution</td>\n",
       "      <td>1</td>\n",
       "    </tr>\n",
       "  </tbody>\n",
       "</table>\n",
       "</div>"
      ],
      "text/plain": [
       "          Id                                               Name  \\\n",
       "20  TC-46212  MR-17233 Add Test Run dialog - Test Design tab...   \n",
       "26  TC-46262  MR-17470 API - Verify that system not allow to...   \n",
       "27  TC-46263  MR-17470 API - Verify that system allow to cre...   \n",
       "28  TC-46264  MR-17470 API - Verify that system not allow to...   \n",
       "29  TC-46273  Verify the Popup when user attempts to delete ...   \n",
       "\n",
       "                            Priority    Test Case Type        Testing Types  \\\n",
       "20  P1 (High - Must run in any case)   Functional - UI   Acceptance Testing   \n",
       "26  P1 (High - Must run in any case)  Functional - API   Acceptance Testing   \n",
       "27  P1 (High - Must run in any case)  Functional - API   Acceptance Testing   \n",
       "28   P2 (Medium - When time permits)  Functional - API   Regression Testing   \n",
       "29   P2 (Medium - When time permits)   Functional - UI  Integration Testing   \n",
       "\n",
       "                               Components  Status  \n",
       "20  Project Settings - Test Case Settings       1  \n",
       "26  Project Settings - Test Case Settings      -1  \n",
       "27  Project Settings - Test Case Settings       1  \n",
       "28  Project Settings - Test Case Settings       1  \n",
       "29                         Test Execution       1  "
      ]
     },
     "execution_count": 157,
     "metadata": {},
     "output_type": "execute_result"
    }
   ],
   "source": [
    "valdata = valdata.dropna()\n",
    "valdata.tail()"
   ]
  },
  {
   "cell_type": "code",
   "execution_count": 158,
   "metadata": {},
   "outputs": [],
   "source": [
    "X_validate = CV.transform(valdata['Name']).toarray()"
   ]
  },
  {
   "cell_type": "code",
   "execution_count": 180,
   "metadata": {},
   "outputs": [],
   "source": [
    "y_pred_validate_SVM = SVM.predict(X_validate)"
   ]
  },
  {
   "cell_type": "code",
   "execution_count": 181,
   "metadata": {},
   "outputs": [
    {
     "data": {
      "text/plain": [
       "array([ 1.,  1.,  1.,  1.,  1.,  1.,  1.,  1., -1.,  1.,  1.,  1.,  1.,\n",
       "        1.,  1.,  1.,  1.,  1.,  1.,  1.,  1.])"
      ]
     },
     "execution_count": 181,
     "metadata": {},
     "output_type": "execute_result"
    }
   ],
   "source": [
    "y_pred_validate_SVM"
   ]
  },
  {
   "cell_type": "code",
   "execution_count": 182,
   "metadata": {},
   "outputs": [],
   "source": [
    "y_pred_validate_NB = model.predict(X_validate)"
   ]
  },
  {
   "cell_type": "code",
   "execution_count": 183,
   "metadata": {},
   "outputs": [
    {
     "data": {
      "text/plain": [
       "array([-1., -1., -1., -1., -1., -1., -1., -1., -1., -1., -1.,  1.,  1.,\n",
       "        1., -1.,  1.,  1.,  1.,  1.,  1.,  1.])"
      ]
     },
     "execution_count": 183,
     "metadata": {},
     "output_type": "execute_result"
    }
   ],
   "source": [
    "y_pred_validate_NB"
   ]
  },
  {
   "cell_type": "code",
   "execution_count": 186,
   "metadata": {},
   "outputs": [
    {
     "data": {
      "text/plain": [
       "[1, 1, 1, -1, -1, -1, -1, -1, -1, -1, -1, 1, 1, -1, 1, 1, 1, -1, 1, 1, 1]"
      ]
     },
     "execution_count": 186,
     "metadata": {},
     "output_type": "execute_result"
    }
   ],
   "source": [
    "y_actual = valdata['Status'].tolist()\n",
    "y_actual"
   ]
  },
  {
   "cell_type": "code",
   "execution_count": 185,
   "metadata": {},
   "outputs": [
    {
     "name": "stdout",
     "output_type": "stream",
     "text": [
      "0.5714285714285714\n"
     ]
    }
   ],
   "source": [
    "print(accuracy_score(y_actual,y_pred_validate_SVM))"
   ]
  },
  {
   "cell_type": "code",
   "execution_count": 190,
   "metadata": {},
   "outputs": [
    {
     "name": "stdout",
     "output_type": "stream",
     "text": [
      "0.7142857142857143\n"
     ]
    }
   ],
   "source": [
    "print(accuracy_score(y_actual,y_pred_validate_NB))"
   ]
  },
  {
   "cell_type": "code",
   "execution_count": 189,
   "metadata": {},
   "outputs": [
    {
     "name": "stdout",
     "output_type": "stream",
     "text": [
      "Actual:  [1, 1, 1, -1, -1, -1, -1, -1, -1, -1, -1, 1, 1, -1, 1, 1, 1, -1, 1, 1, 1]\n",
      "NB model: [-1. -1. -1. -1. -1. -1. -1. -1. -1. -1. -1.  1.  1.  1. -1.  1.  1.  1.\n",
      "  1.  1.  1.]\n",
      "SVM model: [ 1.  1.  1.  1.  1.  1.  1.  1. -1.  1.  1.  1.  1.  1.  1.  1.  1.  1.\n",
      "  1.  1.  1.]\n"
     ]
    }
   ],
   "source": [
    "print('Actual: ', y_actual)\n",
    "print('NB model:', y_pred_validate_NB)\n",
    "print('SVM model:', y_pred_validate_SVM)"
   ]
  },
  {
   "cell_type": "code",
   "execution_count": 207,
   "metadata": {},
   "outputs": [
    {
     "name": "stdout",
     "output_type": "stream",
     "text": [
      "    y_actual  y_pred_validate_NB  y_pred_validate_SVM\n",
      "0        1.0                -1.0                  1.0\n",
      "1        1.0                -1.0                  1.0\n",
      "2        1.0                -1.0                  1.0\n",
      "3       -1.0                -1.0                  1.0\n",
      "4       -1.0                -1.0                  1.0\n",
      "5       -1.0                -1.0                  1.0\n",
      "6       -1.0                -1.0                  1.0\n",
      "7       -1.0                -1.0                  1.0\n",
      "8       -1.0                -1.0                 -1.0\n",
      "9       -1.0                -1.0                  1.0\n",
      "10      -1.0                -1.0                  1.0\n",
      "11       1.0                 1.0                  1.0\n",
      "12       1.0                 1.0                  1.0\n",
      "13      -1.0                 1.0                  1.0\n",
      "14       1.0                -1.0                  1.0\n",
      "15       1.0                 1.0                  1.0\n",
      "16       1.0                 1.0                  1.0\n",
      "17      -1.0                 1.0                  1.0\n",
      "18       1.0                 1.0                  1.0\n",
      "19       1.0                 1.0                  1.0\n",
      "20       1.0                 1.0                  1.0\n",
      "    y_actual  y_pred_validate_NB  y_pred_validate_SVM\n",
      "0        1.0                -1.0                  1.0\n",
      "1        1.0                -1.0                  1.0\n",
      "2        1.0                -1.0                  1.0\n",
      "3       -1.0                -1.0                  1.0\n",
      "4       -1.0                -1.0                  1.0\n",
      "5       -1.0                -1.0                  1.0\n",
      "6       -1.0                -1.0                  1.0\n",
      "7       -1.0                -1.0                  1.0\n",
      "8       -1.0                -1.0                 -1.0\n",
      "9       -1.0                -1.0                  1.0\n",
      "10      -1.0                -1.0                  1.0\n",
      "11       1.0                 1.0                  1.0\n",
      "12       1.0                 1.0                  1.0\n",
      "13      -1.0                 1.0                  1.0\n",
      "14       1.0                -1.0                  1.0\n",
      "15       1.0                 1.0                  1.0\n",
      "16       1.0                 1.0                  1.0\n",
      "17      -1.0                 1.0                  1.0\n",
      "18       1.0                 1.0                  1.0\n",
      "19       1.0                 1.0                  1.0\n",
      "20       1.0                 1.0                  1.0\n"
     ]
    }
   ],
   "source": [
    "data_df = []\n",
    "data_df.append(y_actual)\n",
    "data_df.append(y_pred_validate_NB)\n",
    "data_df.append(y_pred_validate_SVM)\n",
    "df = pd.DataFrame(data_df).transpose()\n",
    "df.columns = ['y_actual', 'y_pred_validate_NB', 'y_pred_validate_SVM']\n",
    "print(df)"
   ]
  },
  {
   "cell_type": "code",
   "execution_count": 193,
   "metadata": {},
   "outputs": [],
   "source": [
    "cf_matrix = confusion_matrix(y_actual, y_pred_validate_NB)"
   ]
  },
  {
   "cell_type": "code",
   "execution_count": 196,
   "metadata": {},
   "outputs": [],
   "source": [
    "import seaborn as sns\n",
    "import matplotlib.pyplot as plt"
   ]
  },
  {
   "cell_type": "code",
   "execution_count": 201,
   "metadata": {},
   "outputs": [
    {
     "data": {
      "image/png": "[encoded data removed]",
      "text/plain": [
       "<Figure size 640x480 with 3 Axes>"
      ]
     },
     "metadata": {},
     "output_type": "display_data"
    },
    {
     "data": {
      "image/png": "[encoded data removed]",
      "text/plain": [
       "<Figure size 640x480 with 3 Axes>"
      ]
     },
     "metadata": {},
     "output_type": "display_data"
    }
   ],
   "source": [
    "ax = sns.heatmap(cf_matrix, annot=True, cmap='Blues')\n",
    "\n",
    "ax.set_title('Confusion Matrix: Actual vs predicted\\n\\n');\n",
    "ax.set_xlabel('\\nPredicted Values')\n",
    "ax.set_ylabel('Actual Values ');\n",
    "\n",
    "ax.xaxis.set_ticklabels(['Should not be','Should be'])\n",
    "ax.yaxis.set_ticklabels(['Should not be','Should be'])\n",
    "\n",
    "plt.show()"
   ]
  },
  {
   "cell_type": "code",
   "execution_count": null,
   "metadata": {},
   "outputs": [],
   "source": []
  }
 ],
 "metadata": {
  "instance_type": "ml.t3.medium",
  "kernelspec": {
   "display_name": "Python 3 (Data Science)",
   "language": "python",
   "name": "python3__SAGEMAKER_INTERNAL__arn:aws:sagemaker:us-east-2:429704687514:image/datascience-1.0"
  },
  "language_info": {
   "codemirror_mode": {
    "name": "ipython",
    "version": 3
   },
   "file_extension": ".py",
   "mimetype": "text/x-python",
   "name": "python",
   "nbconvert_exporter": "python",
   "pygments_lexer": "ipython3",
   "version": "3.7.10"
  }
 },
 "nbformat": 4,
 "nbformat_minor": 4
}
